{
 "cells": [
  {
   "cell_type": "code",
   "execution_count": 8,
   "metadata": {
    "collapsed": false
   },
   "outputs": [
    {
     "data": {
      "text/plain": [
       "Name: Syntax Error.\n",
       "Message: \n",
       "StackTrace: "
      ]
     },
     "execution_count": 8,
     "metadata": {},
     "output_type": "execute_result"
    }
   ],
   "source": [
    "// scala"
   ]
  },
  {
   "cell_type": "code",
   "execution_count": 10,
   "metadata": {
    "collapsed": false
   },
   "outputs": [
    {
     "data": {
      "text/plain": [
       "local"
      ]
     },
     "execution_count": 10,
     "metadata": {},
     "output_type": "execute_result"
    }
   ],
   "source": [
    "sc.master"
   ]
  },
  {
   "cell_type": "markdown",
   "metadata": {
    "collapsed": false
   },
   "source": [
    "# join "
   ]
  },
  {
   "cell_type": "code",
   "execution_count": 16,
   "metadata": {
    "collapsed": false
   },
   "outputs": [
    {
     "data": {
      "text/plain": [
       "nameDF = [gender: bigint, name: string]\n"
      ]
     },
     "metadata": {},
     "output_type": "display_data"
    },
    {
     "data": {
      "text/plain": [
       "[gender: bigint, name: string]"
      ]
     },
     "execution_count": 16,
     "metadata": {},
     "output_type": "execute_result"
    }
   ],
   "source": [
    "val nameDF = spark.read.json(\"file:/home/neo/name.json\")"
   ]
  },
  {
   "cell_type": "code",
   "execution_count": 30,
   "metadata": {
    "collapsed": false
   },
   "outputs": [
    {
     "name": "stdout",
     "output_type": "stream",
     "text": [
      "+-------+------+---+\n",
      "|   name|gender|age|\n",
      "+-------+------+---+\n",
      "|  lilei|     1| 18|\n",
      "|zhaohan|     2| 30|\n",
      "+-------+------+---+\n",
      "\n"
     ]
    },
    {
     "data": {
      "text/plain": [
       "jsonArray = Array({\"name\":\"lilei\",\"age\":18}, {\"name\":\"zhaohan\",\"age\":30}, {\"name\":\"jackma\",\"age\":50})\n",
       "stuRDD = ParallelCollectionRDD[34] at parallelize at <console>:38\n",
       "stuDF = [age: bigint, name: string]\n"
      ]
     },
     "metadata": {},
     "output_type": "display_data"
    },
    {
     "data": {
      "text/plain": [
       "[age: bigint, name: string]"
      ]
     },
     "execution_count": 30,
     "metadata": {},
     "output_type": "execute_result"
    }
   ],
   "source": [
    "val jsonArray = Array(\"{\\\"name\\\":\\\"lilei\\\",\\\"age\\\":18}\",\n",
    "                     \"{\\\"name\\\":\\\"zhaohan\\\",\\\"age\\\":30}\",\n",
    "                     \"{\\\"name\\\":\\\"jackma\\\",\\\"age\\\":50}\")\n",
    "val stuRDD = sc.parallelize(jsonArray,2)\n",
    "val stuDF = spark.read.json(stuRDD)\n",
    "nameDF.join(stuDF,\"name\").show()"
   ]
  },
  {
   "cell_type": "code",
   "execution_count": 27,
   "metadata": {
    "collapsed": false
   },
   "outputs": [
    {
     "name": "stdout",
     "output_type": "stream",
     "text": [
      "+---+-------+\n",
      "|age|   name|\n",
      "+---+-------+\n",
      "| 18|  lilei|\n",
      "| 30|zhaohan|\n",
      "| 50| jackma|\n",
      "+---+-------+\n",
      "\n"
     ]
    }
   ],
   "source": [
    "stuDF.show(5)"
   ]
  },
  {
   "cell_type": "code",
   "execution_count": 31,
   "metadata": {
    "collapsed": false
   },
   "outputs": [
    {
     "data": {
      "text/plain": [
       "dataDF = [gender: bigint, name: string ... 2 more fields]\n"
      ]
     },
     "metadata": {},
     "output_type": "display_data"
    },
    {
     "data": {
      "text/plain": [
       "[gender: bigint, name: string ... 2 more fields]"
      ]
     },
     "execution_count": 31,
     "metadata": {},
     "output_type": "execute_result"
    }
   ],
   "source": [
    "val dataDF = nameDF.join(stuDF,nameDF(\"name\")===stuDF(\"name\"),\"left\")"
   ]
  },
  {
   "cell_type": "code",
   "execution_count": 38,
   "metadata": {
    "collapsed": false
   },
   "outputs": [
    {
     "name": "stdout",
     "output_type": "stream",
     "text": [
      "+------+-------+---+-------+\n",
      "|gender|   name|age|   name|\n",
      "+------+-------+---+-------+\n",
      "|     2|zhaohan| 30|zhaohan|\n",
      "+------+-------+---+-------+\n",
      "\n"
     ]
    }
   ],
   "source": [
    "dataDF.filter(\"age>18\").show()"
   ]
  },
  {
   "cell_type": "code",
   "execution_count": 41,
   "metadata": {
    "collapsed": false
   },
   "outputs": [
    {
     "name": "stdout",
     "output_type": "stream",
     "text": [
      "+------+-------+---+-------+\n",
      "|gender|   name|age|   name|\n",
      "+------+-------+---+-------+\n",
      "|     2|zhaohan| 30|zhaohan|\n",
      "+------+-------+---+-------+\n",
      "\n"
     ]
    }
   ],
   "source": [
    "dataDF.filter(dataDF(\"age\")>18).show()"
   ]
  },
  {
   "cell_type": "code",
   "execution_count": null,
   "metadata": {
    "collapsed": true
   },
   "outputs": [],
   "source": [
    "ataDF.filter(dataDF(\"age\")>18).show()"
   ]
  }
 ],
 "metadata": {
  "kernelspec": {
   "display_name": "Spark2.1.3 - Scala",
   "language": "scala",
   "name": "spark2.1.3_scala"
  },
  "language_info": {
   "codemirror_mode": "text/x-scala",
   "file_extension": ".scala",
   "mimetype": "text/x-scala",
   "name": "scala",
   "pygments_lexer": "scala",
   "version": "2.11.12"
  }
 },
 "nbformat": 4,
 "nbformat_minor": 0
}
